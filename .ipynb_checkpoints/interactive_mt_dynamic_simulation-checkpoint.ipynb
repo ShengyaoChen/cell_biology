{
 "cells": [
  {
   "cell_type": "code",
   "execution_count": 28,
   "metadata": {
    "collapsed": true
   },
   "outputs": [],
   "source": [
    "from __future__ import print_function\n",
    "\n",
    "import random\n",
    "import csv\n",
    "import os\n",
    "import numpy as np\n",
    "import matplotlib\n",
    "from matplotlib import pyplot as plt\n",
    "from ipywidgets import widgets\n",
    "%matplotlib inline\n",
    "\n",
    "state = {1: 'growing', 2 : 'shrinking', 3 : 'resting'}\n",
    "catastropheFreq = 0.024\n",
    "rescueFreq = 0.018\n",
    "initiationFreq = 0.1\n",
    "growthRate = 0.18\n",
    "shrinkRate = 0.33\n",
    "# 5 parameters of MT dynamics\n",
    "# experiment settings\n",
    "\n",
    "timeOfExp = 3600\n",
    "timeOfSimulation = 50\n",
    "# List to store the length(time) for plotting and recording"
   ]
  },
  {
   "cell_type": "code",
   "execution_count": 29,
   "metadata": {
    "collapsed": true
   },
   "outputs": [],
   "source": [
    "# judge whether a catastrophe happen\n",
    "def catastropheStart():\n",
    "\tprob = random.random()\n",
    "\tif prob < catastropheFreq:\n",
    "\t\treturn True\n",
    "\telse:\n",
    "\t\treturn False\n",
    "\n",
    "def rescueStart():\n",
    "\tprob = random.random()\n",
    "\tif prob < rescueFreq:\n",
    "\t\treturn True\n",
    "\telse:\n",
    "\t\treturn False\n",
    "\n",
    "def cataOrRes(currentState):\n",
    "\tif currentState == 1:\n",
    "\t\t#print 'MT is %s' % state[currentState]\n",
    "\t\tif catastropheStart():\n",
    "\t\t\t#print 'A catastrophe just happened.'\n",
    "\t\t\tcurrentState = 2\n",
    "\t\telse:\n",
    "\t\t\t#print 'Keep growing'\n",
    "\t\t\tcurrentState = 1\n",
    "\t\t\n",
    "\telif currentState == 2:\n",
    "\t\t#print 'MT is %s' % state[currentState]\n",
    "\t\tif rescueStart():\n",
    "\t\t\t#print 'A rescue just happened'\n",
    "\t\t\tcurrentState = 1\n",
    "\t\telse:\n",
    "\t\t\t#print 'Keep shrinking.'\n",
    "\t\t\tcurrentState = 2\n",
    "\telse:\n",
    "\t\tpass\n",
    "\treturn currentState\n",
    "\n",
    "def ifRest(currentLength, currentState):\n",
    "\tif currentLength < 0:\n",
    "\t\tcurrentLength = 0\n",
    "\t\tcurrentState = 3\n",
    "\tif currentLength >= 0:\n",
    "\t\tpass\n",
    "\treturn currentLength, currentState\n",
    "\n",
    "def growFromZero():\n",
    "\tprob = random.random()\n",
    "\tif prob < initiationFreq:\n",
    "\t\t#print 'start growing from zero'\n",
    "\t\treturn True\n",
    "\telse:\n",
    "\t\treturn False\n",
    "\n",
    "def grow(currentLength, growthRate):\n",
    "\tcurrentLength = currentLength + growthRate\n",
    "\treturn currentLength, growthRate\n",
    "\n",
    "def shrink(currentLength, shrinkRate):\n",
    "\tcurrentLength = currentLength - shrinkRate\n",
    "\treturn currentLength, shrinkRate"
   ]
  },
  {
   "cell_type": "code",
   "execution_count": 30,
   "metadata": {
    "collapsed": true
   },
   "outputs": [],
   "source": [
    "def simulation(catastropheFreq, rescueFreq,  growthRate,\n",
    "               shrinkRate):\n",
    "    initialLength = 0\n",
    "    initialTime = 0\n",
    "    initialState = 1\n",
    "    currentLength = initialLength\n",
    "    currentTime = initialTime\n",
    "    currentState = initialState\n",
    "    \n",
    "    initiationFreq = 0.1\n",
    "    \n",
    "    currentExpCount = 0\n",
    "    timeOfExp = 3600 #s\n",
    "    numberOfMT = 20\n",
    "    intervalTime = 1 #s\n",
    "    lengthPerMin = []\n",
    "    length = [initialLength]\n",
    "    time = [initialTime]\n",
    "\n",
    "    while currentExpCount < numberOfMT:\n",
    "\n",
    "        lengthList = [currentLength]\n",
    "        timeList = [currentTime]\n",
    "\n",
    "        while currentTime < timeOfExp:\n",
    "\n",
    "            currentState = cataOrRes(currentState)\n",
    "\n",
    "            if currentState == 1:\n",
    "                currentLength, growthRate = grow(currentLength, growthRate)\n",
    "            if currentState == 2:\n",
    "                currentLength, shrinkRate = shrink(currentLength, shrinkRate)\n",
    "            if currentState == 3:\n",
    "                if growFromZero():\n",
    "                    grow(currentLength, growthRate)\n",
    "                    currentState = 1\n",
    "            else:\n",
    "                pass\n",
    "\n",
    "            currentLength, currentState = ifRest(currentLength, currentState)\n",
    "\n",
    "            currentTime += intervalTime\n",
    "\n",
    "            if currentTime % 300 == 0:\n",
    "                lengthList.append(currentLength)\n",
    "                timeList.append(currentTime)\n",
    "\n",
    "\n",
    "        lengthPerMin.append(lengthList)\n",
    "        currentExpCount += 1\n",
    "        currentTime = initialTime\n",
    "        currentLength = initialLength\n",
    "        currentState = initialState\n",
    "        \n",
    "    data = np.asarray(lengthPerMin)\n",
    "    averageData = np.mean(data, axis = 0)\n",
    "    \n",
    "    return averageData"
   ]
  },
  {
   "cell_type": "code",
   "execution_count": 31,
   "metadata": {
    "collapsed": false
   },
   "outputs": [
    {
     "name": "stdout",
     "output_type": "stream",
     "text": [
      "11.6619\n"
     ]
    }
   ],
   "source": [
    "# Here is the part that output the average length of MT at 20 mins.\n",
    "\n",
    "timesOfSimulation = np.arange(timeOfSimulation)\n",
    "\n",
    "\n",
    "def finalSimulation_twenty_m_length(catastropheFreq, rescueFreq, growthRate,\n",
    "               shrinkRate):\n",
    "    averageData = []\n",
    "    simulationData = []\n",
    "    for i in timesOfSimulation:\n",
    "        averageData = simulation(catastropheFreq, rescueFreq, growthRate,\n",
    "                   shrinkRate)\n",
    "\n",
    "        simulationData.append(averageData.tolist())\n",
    "        averageData = []\n",
    "\n",
    "\n",
    "    finalSimulationData = np.mean(np.asarray(simulationData), axis = 0)\n",
    "    SEM = np.std(np.asarray(simulationData), axis = 0)\n",
    "    time = np.linspace(0, (timeOfExp / 300) * 5, (timeOfExp / 300) + 1)\n",
    "\n",
    "#     plt.errorbar(time, finalSimulationData, yerr = SEM)\n",
    "#     plt.close()\n",
    "    \n",
    "    return finalSimulationData[4]\n",
    "\n",
    "twenty_m_result = finalSimulation_twenty_m_length(catastropheFreq, rescueFreq, growthRate, shrinkRate)\n",
    "print(twenty_m_result)"
   ]
  },
  {
   "cell_type": "code",
   "execution_count": 5,
   "metadata": {
    "collapsed": false
   },
   "outputs": [
    {
     "data": {
      "text/plain": [
       "(array([  0.        ,  11.50553571,  13.66204286,  12.18521786,\n",
       "         13.05310714,  12.56620714,  12.8766    ,  12.94794643,\n",
       "         13.49696786,  13.95859286,  13.63563214,  14.50310357,  16.52206071]),\n",
       " array([ 0.        ,  1.70269902,  2.43102656,  1.89403807,  3.06828465,\n",
       "         3.52809007,  3.18728518,  1.89881409,  1.99935702,  2.36303687,\n",
       "         1.87594688,  2.17991677,  3.09037318]),\n",
       " array([  0.,   5.,  10.,  15.,  20.,  25.,  30.,  35.,  40.,  45.,  50.,\n",
       "         55.,  60.]))"
      ]
     },
     "metadata": {},
     "output_type": "display_data"
    },
    {
     "data": {
      "text/plain": [
       "<function __main__.finalSimulation>"
      ]
     },
     "execution_count": 5,
     "metadata": {},
     "output_type": "execute_result"
    },
    {
     "data": {
      "image/png": "[encoded data removed]",
      "text/plain": [
       "<matplotlib.figure.Figure at 0x10b2de4e0>"
      ]
     },
     "metadata": {},
     "output_type": "display_data"
    }
   ],
   "source": [
    "# A widget for intereactive simulation.\n",
    "\n",
    "timesOfSimulation = np.arange(timeOfSimulation)\n",
    "\n",
    "\n",
    "def finalSimulation(catastropheFreq, rescueFreq, growthRate,\n",
    "               shrinkRate):\n",
    "    averageData = []\n",
    "    simulationData = []\n",
    "    for i in timesOfSimulation:\n",
    "        averageData = simulation(catastropheFreq, rescueFreq, growthRate,\n",
    "                   shrinkRate)\n",
    "\n",
    "        simulationData.append(averageData.tolist())\n",
    "        averageData = []\n",
    "\n",
    "\n",
    "    finalSimulationData = np.mean(np.asarray(simulationData), axis = 0)\n",
    "    SEM = np.std(np.asarray(simulationData), axis = 0)\n",
    "    time = np.linspace(0, (timeOfExp / 300) * 5, (timeOfExp / 300) + 1)\n",
    "\n",
    "    plt.errorbar(time, finalSimulationData, yerr = SEM)\n",
    "    \n",
    "    return finalSimulationData, SEM, time\n",
    "\n",
    "widgets.interact(finalSimulation, \n",
    "                catastropheFreq = (0.0017, 0.03, 0.001),\n",
    "                rescueFreq = (0.015, 0.025, 0.001),\n",
    "                growthRate = (0.013, 0.37, 0.01),\n",
    "                shrinkRate = (0.12, 0.42, 0.03),\n",
    "                )\n"
   ]
  },
  {
   "cell_type": "code",
   "execution_count": null,
   "metadata": {
    "collapsed": true
   },
   "outputs": [],
   "source": []
  }
 ],
 "metadata": {
  "anaconda-cloud": {},
  "kernelspec": {
   "display_name": "Python [Root]",
   "language": "python",
   "name": "Python [Root]"
  },
  "language_info": {
   "codemirror_mode": {
    "name": "ipython",
    "version": 3
   },
   "file_extension": ".py",
   "mimetype": "text/x-python",
   "name": "python",
   "nbconvert_exporter": "python",
   "pygments_lexer": "ipython3",
   "version": "3.5.2"
  }
 },
 "nbformat": 4,
 "nbformat_minor": 0
}
