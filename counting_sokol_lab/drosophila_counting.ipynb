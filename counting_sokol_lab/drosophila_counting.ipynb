{
 "cells": [
  {
   "cell_type": "markdown",
   "metadata": {},
   "source": [
    "# A general user guide\n",
    "\n",
    "1. Copy this drosophila_counting.ipynb to the folder with Max projected images.\n",
    "2. Open Terminal on Mac.\n",
    "3. Drag the folder containing this program and images onto the Terminal icon.   \n",
    "   A Chrome/Safari window would pop up with the file list of the current folder.\n",
    "4. Open this drosophila_counting.ipynb on Chrome/Safari.  \n",
    "   A new tab/window will pop up.\n",
    "5. Go through all the cells inside this program by **'shift + enter'**.\n",
    "6. For each Max projected image, a png file that shows the counting will be saved.  \n",
    "   And a csv file that shows all the measurements for each images will be saved and will be used for further analysis    and plotting."
   ]
  },
  {
   "cell_type": "code",
   "execution_count": 1,
   "metadata": {
    "collapsed": true
   },
   "outputs": [],
   "source": [
    "# import the modules that we need and specify the folder which contains the files\n",
    "import pandas as pd\n",
    "import glob, os\n",
    "import numpy as np\n",
    "import matplotlib as mpl\n",
    "\n",
    "from pylab import imshow\n",
    "from skimage import io\n",
    "import skimage\n",
    "from matplotlib import pyplot as plt\n",
    "%matplotlib inline\n",
    "plt.rcParams['image.cmap'] = 'gray'\n",
    "plt.rcParams['image.interpolation'] = 'none'\n",
    "\n",
    "from skimage.feature import blob_log\n",
    "from math import sqrt"
   ]
  },
  {
   "cell_type": "code",
   "execution_count": 10,
   "metadata": {
    "collapsed": true
   },
   "outputs": [],
   "source": [
    "def blob_counting(file):\n",
    "    image = io.imread(file)\n",
    "    DNA = image[2, ..., 0]\n",
    "    green = image[1, ..., 0]\n",
    "    \n",
    "    dna_blobs_log = blob_log(DNA, max_sigma=20, min_sigma = 5, num_sigma=5, overlap = 0.5, threshold=.08)\n",
    "    dna_blobs_log[:, 2] = dna_blobs_log[:, 2] * sqrt(2)\n",
    "    \n",
    "    green_blobs_log = blob_log(green, max_sigma=20, min_sigma = 4, num_sigma=5, overlap = 0.5, threshold=.04)\n",
    "    green_blobs_log[:, 2] = green_blobs_log[:, 2] * sqrt(2)\n",
    "\n",
    "    fig, (ax1, ax2) = plt.subplots(1, 2, figsize=(16, 6), sharex=True, sharey=True,\n",
    "                             subplot_kw={'adjustable': 'box-forced'})\n",
    "    plt.tight_layout()\n",
    "    \n",
    "    ax1.imshow(DNA, interpolation = 'nearest')\n",
    "    ax1.set_axis_off()\n",
    "    ax1.set_title(file.split('.')[0] + '_DNA')\n",
    "    for blob in dna_blobs_log:\n",
    "        y, x, r = blob\n",
    "        c = plt.Circle((x, y), r, color= 'cyan', linewidth=1.5, fill=False)\n",
    "        ax1.add_patch(c)\n",
    "        \n",
    "    ax2.imshow(green, interpolation = 'nearest')\n",
    "    ax2.set_axis_off()\n",
    "    ax2.set_title(file.split('.')[0] + '_green')\n",
    "    for blob in green_blobs_log:\n",
    "        y, x, r = blob\n",
    "        c = plt.Circle((x, y), r, color= 'green', linewidth=1.5, fill=False)\n",
    "        ax2.add_patch(c)\n",
    "    fig.savefig(file.split('.')[0] + '_analysis')\n",
    "    \n",
    "    return [len(dna_blobs_log), len(green_blobs_log)]"
   ]
  },
  {
   "cell_type": "code",
   "execution_count": null,
   "metadata": {
    "collapsed": false
   },
   "outputs": [],
   "source": [
    "%%time\n",
    "\n",
    "current_path = %pwd\n",
    "file_list = os.listdir(current_path)\n",
    "file_list = [i for i in file_list if i[:3] == 'MAX' and i[-3:] == 'tif']\n",
    "result_dictionary = {}\n",
    "for file in file_list:\n",
    "    result_dictionary[file.split('.')[0]] = blob_counting(file)"
   ]
  },
  {
   "cell_type": "code",
   "execution_count": 5,
   "metadata": {
    "collapsed": false
   },
   "outputs": [
    {
     "data": {
      "text/html": [
       "<div>\n",
       "<table border=\"1\" class=\"dataframe\">\n",
       "  <thead>\n",
       "    <tr style=\"text-align: right;\">\n",
       "      <th></th>\n",
       "      <th>blue</th>\n",
       "      <th>green</th>\n",
       "    </tr>\n",
       "  </thead>\n",
       "  <tbody>\n",
       "    <tr>\n",
       "      <th>MAX_stackwt1</th>\n",
       "      <td>393</td>\n",
       "      <td>114</td>\n",
       "    </tr>\n",
       "    <tr>\n",
       "      <th>MAX_stackwt2</th>\n",
       "      <td>460</td>\n",
       "      <td>125</td>\n",
       "    </tr>\n",
       "  </tbody>\n",
       "</table>\n",
       "</div>"
      ],
      "text/plain": [
       "              blue  green\n",
       "MAX_stackwt1   393    114\n",
       "MAX_stackwt2   460    125"
      ]
     },
     "execution_count": 5,
     "metadata": {},
     "output_type": "execute_result"
    }
   ],
   "source": [
    "analysis = pd.DataFrame(result_dictionary, index = ['blue', 'green'])\n",
    "analysis = analysis.transpose()\n",
    "analysis.to_csv('measurement_result.csv')\n",
    "analysis"
   ]
  },
  {
   "cell_type": "code",
   "execution_count": null,
   "metadata": {
    "collapsed": true
   },
   "outputs": [],
   "source": []
  }
 ],
 "metadata": {
  "anaconda-cloud": {},
  "kernelspec": {
   "display_name": "Python [Root]",
   "language": "python",
   "name": "Python [Root]"
  },
  "language_info": {
   "codemirror_mode": {
    "name": "ipython",
    "version": 3
   },
   "file_extension": ".py",
   "mimetype": "text/x-python",
   "name": "python",
   "nbconvert_exporter": "python",
   "pygments_lexer": "ipython3",
   "version": "3.5.2"
  }
 },
 "nbformat": 4,
 "nbformat_minor": 0
}
